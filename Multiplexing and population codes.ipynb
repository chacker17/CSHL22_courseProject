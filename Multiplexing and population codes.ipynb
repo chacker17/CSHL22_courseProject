{
 "cells": [
  {
   "cell_type": "markdown",
   "metadata": {},
   "source": [
    "# Investigating the impact of temporal multiplexing on neural population coding\n",
    "\n",
    "Notebook contains code from CSHL Computational Neuroscience: Vision summer course project.\n",
    "\n",
    "#### Written July 2022 by CMH"
   ]
  },
  {
   "cell_type": "markdown",
   "metadata": {},
   "source": [
    "The goal of this project is to apply the findings of Caruso et al. (2018) and to explore the implications of this kind of temporal multiplexing to distributed population codes in visual cortex.  TODO: Add more explanation of the project."
   ]
  },
  {
   "cell_type": "code",
   "execution_count": 1,
   "metadata": {},
   "outputs": [],
   "source": [
    "import numpy as np\n",
    "import pandas as pd\n",
    "from scipy.spatial import distance\n",
    "import matplotlib.pyplot as plt\n",
    "from sklearn.decomposition import PCA\n",
    "from sklearn.model_selection import train_test_split\n",
    "from sklearn.discriminant_analysis import LinearDiscriminantAnalysis\n",
    "\n",
    "IT_data = pd.read_csv('ITData.csv').to_numpy() # Starting vector comes from real IT data (objects)"
   ]
  },
  {
   "cell_type": "markdown",
   "metadata": {},
   "source": [
    "## Step 1: Simulate a neural population\n",
    "\n",
    "1. Generate a random ground truth population response vector for a single stimulus. These spike counts are randomly pulled from an exponential with a scaling parameter that determines the range of observed spike counts.\n",
    "\n",
    "2. Simulate the ground truth response to a second vector by defining a new vector a given number of degrees from the first vector. # TODO\n",
    "\n",
    "3. Simulate the response to either stimulus presented alone as random draws from the ground truth vectors. Simulate the response to both images simultaneously using the mixed poisson model tested in Caruso et al.. \n",
    "\n",
    "### Knobs that can be turned\n",
    "\n",
    "* number of units in the population\n",
    "* proportion of the population that is biased toward one ensemble at a time\n",
    "* maximum firing rate of neurons\n",
    "* number of presentations of the image"
   ]
  },
  {
   "cell_type": "code",
   "execution_count": 2,
   "metadata": {},
   "outputs": [],
   "source": [
    "def gen_samples(num_pres, num_units, prop_maj, theta): \n",
    "\n",
    "    units_sample = np.random.permutation(len(IT_data))\n",
    "    a = (IT_data[units_sample[0:num_units], 1]).reshape((num_units, 1))\n",
    "\n",
    "    # Rotate vector a by specified number of degrees to generate vector b\n",
    "    rand_vec = np.random.randn(num_units,1) # random vector we can orthogonalize wrt original\n",
    "    orth_vec = rand_vec - (((rand_vec.T@a)/(a.T@a))*a) # orthogonalize wrt a\n",
    "\n",
    "    # normalize to unit length\n",
    "    a_norm = a * (1/ np.linalg.norm(a))\n",
    "    orth_vec_norm = orth_vec * (1/ np.linalg.norm(orth_vec))\n",
    "\n",
    "    b = (a_norm * np.cos(np.radians(theta))) + (orth_vec_norm*np.sin(np.radians(theta))) # generate second vector\n",
    "    b = b * np.linalg.norm(a) # scale new vector up to same size as original\n",
    "\n",
    "#     if np.abs(np.degrees(np.arccos(1-distance.cosine(a, b)))-theta) > 0.05: # allow 0.05 degrees of error\n",
    "#         raise ValueError('Simulated distance for vector b is incorrect')\n",
    "\n",
    "#     # Plot histogram of responses to A and B\n",
    "#     w = 1\n",
    "#     fig, ax = plt.subplots()\n",
    "#     ax.hist(a, density=True, facecolor='r', alpha=0.75, label='a', bins=np.arange(min(a), max(a) + w, w), rwidth=0.8)\n",
    "#     ax.hist(b, density=True, facecolor='b', alpha=0.75, label='b', bins=np.arange(min(b), max(b) + w, w), rwidth=0.8)\n",
    "#     ax.set_ylabel('Proportion of units')\n",
    "#     ax.set_xlabel('Spike count')\n",
    "#     ax.set_title('Distribution of ground truth responses to A and B')\n",
    "#     ax.spines['top'].set_visible(False)\n",
    "#     ax.spines['right'].set_visible(False)\n",
    "#     ax.legend()\n",
    "#     plt.show()\n",
    "\n",
    "    # Simulate response of num_pres presentations of each image and images together\n",
    "    a_draws = np.empty((num_units, num_pres))\n",
    "    b_draws = np.empty((num_units, num_pres))\n",
    "    mix_draws = np.empty((num_units, num_pres))\n",
    "    for i in range(0, num_units):\n",
    "        if a[i] <= 0 and b[i] > 0:\n",
    "            a_draws[i, :] = np.random.poisson(lam=np.abs(a[i]), size=(1, num_pres)) * -1\n",
    "            b_draws[i, :] = np.random.poisson(lam=b[i], size=(1, num_pres))\n",
    "            mix_draws[i, :] = (prop_maj * np.random.poisson(lam=np.abs(a[i]), size=(1, num_pres))) * -1 + ((1-prop_maj) * np.random.poisson(lam=b[i], size=(1, num_pres))) # mixture model from Car\n",
    "        elif a[i] <= 0 and b[i] <= 0: \n",
    "            a_draws[i, :] = np.random.poisson(lam=np.abs(a[i]), size=(1, num_pres)) * -1\n",
    "            b_draws[i, :] = np.random.poisson(lam=np.abs(b[i]), size=(1, num_pres)) * -1\n",
    "            mix_draws[i, :] = (prop_maj * np.random.poisson(lam=np.abs(a[i]), size=(1, num_pres))) * -1 + ((1-prop_maj) * np.random.poisson(lam=np.abs(b[i]), size=(1, num_pres)) * -1) # mixture model from Car\n",
    "        elif a[i] > 0 and b[i] <= 0:\n",
    "            a_draws[i, :] = np.random.poisson(lam=a[i], size=(1, num_pres))\n",
    "            b_draws[i, :] = np.random.poisson(lam=np.abs(b[i]), size=(1, num_pres)) * -1\n",
    "            mix_draws[i, :] = (prop_maj * np.random.poisson(lam=a[i], size=(1, num_pres))) + ((1-prop_maj) * np.random.poisson(lam=np.abs(b[i]), size=(1, num_pres)) * -1) # mixture model from Car\n",
    "        elif a[i] > 0 and b[i] > 0:\n",
    "            a_draws[i, :] = np.random.poisson(lam=a[i], size=(1, num_pres))\n",
    "            b_draws[i, :] = np.random.poisson(lam=b[i], size=(1, num_pres))\n",
    "            mix_draws[i, :] = (prop_maj * np.random.poisson(lam=a[i], size=(1, num_pres))) + ((1-prop_maj) * np.random.poisson(lam=b[i], size=(1, num_pres))) # mixture model from Car\n",
    "\n",
    "    return a_draws, b_draws, mix_draws\n",
    "            \n",
    "num_pres = 30 # number of presentations to simulate\n",
    "num_units = 50 # number of units in the population (max 534 recorded)\n",
    "prop_maj = 0.7 # likelihood of representing stimulus a vs. stimulus b (<0.5 favors b, >0.5 favors a)\n",
    "theta = 20 # angle between vectors a and b (deg)\n",
    "a_draws, b_draws, mix_draws = gen_samples(num_pres, num_units, prop_maj, theta)"
   ]
  },
  {
   "cell_type": "markdown",
   "metadata": {},
   "source": [
    "To better visualize our data across the num_pres draws, I do PCA and plot the responses in 2D PCA space."
   ]
  },
  {
   "cell_type": "code",
   "execution_count": 3,
   "metadata": {},
   "outputs": [
    {
     "data": {
      "image/png": "[encoded data removed]",
      "text/plain": [
       "<Figure size 432x288 with 1 Axes>"
      ]
     },
     "metadata": {
      "needs_background": "light"
     },
     "output_type": "display_data"
    }
   ],
   "source": [
    "labels = np.concatenate((np.zeros((1, num_pres)), np.zeros((1, num_pres))+1, np.zeros((1, num_pres))+2), axis=1)\n",
    "all_resp = np.concatenate((a_draws, b_draws, mix_draws), axis=1)\n",
    "\n",
    "# Fit PCA model from sklearn\n",
    "pca = PCA(n_components=2)\n",
    "pca.fit(all_resp.T)\n",
    "pc_activations = pca.transform(all_resp.T)\n",
    "\n",
    "# Plot for visualization\n",
    "fig, ax = plt.subplots()\n",
    "c_resp = ['r', 'b', 'm']\n",
    "f_labels = ['a', 'b', 'mix']\n",
    "\n",
    "for i in range(0, 3):\n",
    "    ax.scatter(pc_activations[(labels==i).reshape(num_pres*3,), 0], pc_activations[(labels==i).reshape(num_pres*3,), 1], c=c_resp[i], label=f_labels[i])\n",
    "\n",
    "ax.set_ylabel('PC 2')\n",
    "ax.set_xlabel('PC 1')\n",
    "ax.set_title('Response to %d presentations of stimuli' % num_pres)\n",
    "ax.spines['top'].set_visible(False)\n",
    "ax.spines['right'].set_visible(False)\n",
    "# ax.legend(ncol=3)\n",
    "plt.show()\n"
   ]
  },
  {
   "cell_type": "markdown",
   "metadata": {},
   "source": [
    "# Step 2: Implement cross-validated linear decoder\n",
    "\n",
    "Next, we train a cross-validated linear decoder to distinguish stimulus a from stimulus b. On each iteration of cross-validation we train the decoder with the repsonses to 80% of the presesentations of each stimulus. We test with the remaining 20% to determine the performance of the classifier, and we measure the distance of the mixture to the decision boundary on each iteration. "
   ]
  },
  {
   "cell_type": "code",
   "execution_count": 37,
   "metadata": {},
   "outputs": [
    {
     "name": "stdout",
     "output_type": "stream",
     "text": [
      "####################\n",
      "0.8781391774891775\n",
      "0.8706166305916306\n",
      "0.2652333333333333\n"
     ]
    }
   ],
   "source": [
    "def cross_validated_decoder(num_pres, num_units, prop_maj, theta):\n",
    "    num_itr = 1000 # number of iterations of cross-validation\n",
    "\n",
    "    # Loop through iterations of cross-validation\n",
    "    mean_perf_a = np.zeros(num_itr,)\n",
    "    mean_perf_b = np.zeros(num_itr,)\n",
    "    prop_b = np.zeros(num_itr,)\n",
    "    for i in range(0, num_itr):\n",
    "        if i % 50 == 0:\n",
    "            print('#', end = '')\n",
    "\n",
    "        a_draws, b_draws, mix_draws = gen_samples(num_pres, num_units, prop_maj, theta) \n",
    "        resp_single = np.concatenate((a_draws, b_draws), axis=1)\n",
    "        label_single = np.concatenate((np.zeros((1, num_pres)), np.zeros((1, num_pres))+1), axis=1).reshape(num_pres*2,)\n",
    "        X_train, X_test, y_train, y_test = train_test_split(resp_single.T, label_single.T, test_size=0.2)\n",
    "        model = LinearDiscriminantAnalysis()\n",
    "        model.fit(X_train, y_train)\n",
    "        pred = model.predict(X_test)\n",
    "        pred_acc = 1 - np.abs(y_test - pred)\n",
    "        mean_perf_a[i] = np.mean(pred_acc[y_test==1])\n",
    "        mean_perf_b[i] = np.mean(pred_acc[y_test==0])\n",
    "\n",
    "        # run multiplexed signal through model\n",
    "        pred_mp = model.predict(mix_draws.T)\n",
    "        prop_b[i] = np.mean(pred_mp)\n",
    "        \n",
    "    print('')\n",
    "#     plt.hist(model.coef_)\n",
    "#     print(model.coef_.shape)\n",
    "#     plt.hist(np.mean(X_train, axis=0))\n",
    "#     plt.hist(np.mean(X_test, axis=0))\n",
    "    return mean_perf_a, mean_perf_b, prop_b\n",
    "\n",
    "mean_perf_a, mean_perf_b, prop_b = cross_validated_decoder(num_pres, num_units, prop_maj, theta)\n",
    "\n",
    "print(np.mean(mean_perf_a))\n",
    "print(np.mean(mean_perf_b))\n",
    "print(np.mean(prop_b))"
   ]
  },
  {
   "cell_type": "markdown",
   "metadata": {},
   "source": [
    "Question 1: Can the bias in multiplexed signals \"untangle\" them so that one representation persists? A: No\n",
    "Question 2: Is there a linear classifier that can \"untangle\" in favor of the bias?"
   ]
  },
  {
   "cell_type": "markdown",
   "metadata": {},
   "source": [
    "# Step 3: Test performance of linear decoder with varying parameters"
   ]
  },
  {
   "cell_type": "code",
   "execution_count": 5,
   "metadata": {},
   "outputs": [],
   "source": [
    "default_num_pres = 30 # number of presentations to simulate\n",
    "default_num_units = 50 # number of units in the population (max 534 recorded)\n",
    "default_prop_maj = 0.75 # likelihood of representing stimulus a vs. stimulus b (<0.5 favors b, >0.5 favors a)\n",
    "default_theta = 20 # angle between vectors a and b (deg)"
   ]
  },
  {
   "cell_type": "code",
   "execution_count": 6,
   "metadata": {},
   "outputs": [],
   "source": [
    "# num_units_range = [10, 30, 50, 75, 90, 150, 200, 300]\n",
    "# perf_by_units_a = np.empty((len(num_units_range),))\n",
    "# perf_by_units_b = np.empty((len(num_units_range),))\n",
    "# prop_b_by_units = np.empty((len(num_units_range),))\n",
    "# for i in range(0, len(num_units_range)):\n",
    "#     mean_perf_a, mean_perf_b, prop_b = cross_validated_decoder(default_num_pres, num_units_range[i], default_prop_maj, default_theta)\n",
    "#     perf_by_units_a[i] = np.nanmean(mean_perf_a)\n",
    "#     perf_by_units_b[i] = np.nanmean(mean_perf_b)\n",
    "#     prop_b_by_units[i] = np.nanmean(prop_b)\n"
   ]
  },
  {
   "cell_type": "code",
   "execution_count": 7,
   "metadata": {},
   "outputs": [],
   "source": [
    "# # Plot for visualization\n",
    "# f, (ax1, ax2) = plt.subplots(1, 2)\n",
    "\n",
    "# ax1.plot(num_units_range, perf_by_units_a, label='a')\n",
    "# ax1.plot(num_units_range, perf_by_units_b, label='b')\n",
    "\n",
    "# ax1.set_ylabel('Performance')\n",
    "# ax1.set_xlabel('Number of units')\n",
    "# ax1.set_title('Changing number of units')\n",
    "# ax1.spines['top'].set_visible(False)\n",
    "# ax1.spines['right'].set_visible(False)\n",
    "# ax1.legend()\n",
    "# ax1.legend(ncol=2)\n",
    "# plt.ylim((0.8, 1))\n",
    "\n",
    "# ax2.plot(num_units_range, prop_b_by_units)\n",
    "\n",
    "# ax2.set_ylabel('Prop. chose b')\n",
    "# ax2.set_xlabel('Number of units')\n",
    "# ax2.set_title('Changing number of units')\n",
    "# ax2.spines['top'].set_visible(False)\n",
    "# ax2.spines['right'].set_visible(False)\n",
    "# plt.ylim((0.5, 1))\n",
    "\n",
    "# plt.show()\n"
   ]
  },
  {
   "cell_type": "code",
   "execution_count": 8,
   "metadata": {},
   "outputs": [
    {
     "name": "stdout",
     "output_type": "stream",
     "text": [
      "####################\n",
      "####################\n",
      "#############"
     ]
    },
    {
     "name": "stderr",
     "output_type": "stream",
     "text": [
      "/Users/cmhacker/opt/anaconda3/lib/python3.7/site-packages/numpy/core/fromnumeric.py:3118: RuntimeWarning: Mean of empty slice.\n",
      "  out=out, **kwargs)\n",
      "/Users/cmhacker/opt/anaconda3/lib/python3.7/site-packages/numpy/core/_methods.py:85: RuntimeWarning: invalid value encountered in double_scalars\n",
      "  ret = ret.dtype.type(ret / rcount)\n"
     ]
    },
    {
     "name": "stdout",
     "output_type": "stream",
     "text": [
      "#######\n",
      "####################\n",
      "###############"
     ]
    },
    {
     "name": "stderr",
     "output_type": "stream",
     "text": [
      "/Users/cmhacker/opt/anaconda3/lib/python3.7/site-packages/numpy/core/fromnumeric.py:3118: RuntimeWarning: Mean of empty slice.\n",
      "  out=out, **kwargs)\n",
      "/Users/cmhacker/opt/anaconda3/lib/python3.7/site-packages/numpy/core/_methods.py:85: RuntimeWarning: invalid value encountered in double_scalars\n",
      "  ret = ret.dtype.type(ret / rcount)\n"
     ]
    },
    {
     "name": "stdout",
     "output_type": "stream",
     "text": [
      "#####\n",
      "####################\n",
      "####################\n",
      "####################\n",
      "####################\n",
      "####################\n",
      "####################\n"
     ]
    }
   ],
   "source": [
    "theta_range = [0, 3, 5, 7, 10, 15, 20, 30, 40, 50, 60]\n",
    "perf_by_units_a = np.empty((len(theta_range),))\n",
    "perf_by_units_b = np.empty((len(theta_range),))\n",
    "prop_b_by_units = np.empty((len(theta_range),))\n",
    "for i in range(0, len(theta_range)):\n",
    "    mean_perf_a, mean_perf_b, prop_b = cross_validated_decoder(default_num_pres, default_num_units, default_prop_maj, theta_range[i])\n",
    "    perf_by_units_a[i] = np.nanmean(mean_perf_a)\n",
    "    perf_by_units_b[i] = np.nanmean(mean_perf_b)\n",
    "    prop_b_by_units[i] = np.nanmean(prop_b)\n"
   ]
  },
  {
   "cell_type": "code",
   "execution_count": 9,
   "metadata": {},
   "outputs": [
    {
     "data": {
      "image/png": "[encoded data removed]",
      "text/plain": [
       "<Figure size 432x288 with 2 Axes>"
      ]
     },
     "metadata": {
      "needs_background": "light"
     },
     "output_type": "display_data"
    }
   ],
   "source": [
    "# Plot for visualization\n",
    "# f, (ax1, ax2) = plt.subplots(1, 2, figsize=(8,3))\n",
    "fig, ax1 = plt.subplots()\n",
    "\n",
    "ax1.plot(theta_range, perf_by_units_a, 'r-', label='a')\n",
    "ax1.plot(theta_range, perf_by_units_b, 'b-', label='b')\n",
    "\n",
    "ax1.set_ylabel('Classifier performance')\n",
    "ax1.set_xlabel('Angle Between (deg)')\n",
    "# ax1.set_title('Changing angle between')\n",
    "ax1.spines['top'].set_visible(False)\n",
    "ax1.spines['right'].set_visible(False)\n",
    "# ax1.legend()\n",
    "# ax1.legend(ncol=2)\n",
    "ax1.set(ylim=((0.4, 1)))\n",
    "# ax1.tick_params(axis='y', color='b', labelcolor='b')\n",
    "\n",
    "\n",
    "ax2 = ax1.twinx()\n",
    "ax2.plot(theta_range, 1-prop_b_by_units, 'k-')\n",
    "\n",
    "ax2.set_ylabel('Proportion chose a')\n",
    "ax2.set_xlabel('Angle Between (deg)')\n",
    "# ax2.set_title('Changing angle between')\n",
    "ax2.spines['top'].set_visible(False)\n",
    "# ax2.spines['right'].set_visible(False)\n",
    "ax2.set(ylim=((0.4, 1)))\n",
    "# ax2.spines['right'].set_color('k')\n",
    "# ax2.spines['left'].set_color('b')\n",
    "# ax2.tick_params(axis='y', color='k', labelcolor='k')\n",
    "\n",
    "plt.show()\n"
   ]
  },
  {
   "cell_type": "code",
   "execution_count": 10,
   "metadata": {},
   "outputs": [
    {
     "name": "stdout",
     "output_type": "stream",
     "text": [
      "################"
     ]
    },
    {
     "name": "stderr",
     "output_type": "stream",
     "text": [
      "/Users/cmhacker/opt/anaconda3/lib/python3.7/site-packages/numpy/core/fromnumeric.py:3118: RuntimeWarning: Mean of empty slice.\n",
      "  out=out, **kwargs)\n",
      "/Users/cmhacker/opt/anaconda3/lib/python3.7/site-packages/numpy/core/_methods.py:85: RuntimeWarning: invalid value encountered in double_scalars\n",
      "  ret = ret.dtype.type(ret / rcount)\n"
     ]
    },
    {
     "name": "stdout",
     "output_type": "stream",
     "text": [
      "####\n",
      "####################\n",
      "####################\n",
      "####################\n",
      "####################\n",
      "####################\n",
      "####################\n",
      "####################\n",
      "####################\n",
      "####################\n",
      "####################\n"
     ]
    }
   ],
   "source": [
    "propmaj_range = [0, 0.1, 0.2, 0.3, 0.4, 0.5, 0.6, 0.7, 0.8, 0.9, 1]\n",
    "perf_by_units_a = np.empty((len(propmaj_range),))\n",
    "perf_by_units_b = np.empty((len(propmaj_range),))\n",
    "prop_b_by_units = np.empty((len(propmaj_range),))\n",
    "for i in range(0, len(propmaj_range)):\n",
    "    mean_perf_a, mean_perf_b, prop_b = cross_validated_decoder(default_num_pres, default_num_units, propmaj_range[i], default_theta)\n",
    "    perf_by_units_a[i] = np.nanmean(mean_perf_a)\n",
    "    perf_by_units_b[i] = np.nanmean(mean_perf_b)\n",
    "    prop_b_by_units[i] = np.nanmean(prop_b)"
   ]
  },
  {
   "cell_type": "code",
   "execution_count": 11,
   "metadata": {},
   "outputs": [
    {
     "data": {
      "image/png": "[encoded data removed]",
      "text/plain": [
       "<Figure size 432x288 with 2 Axes>"
      ]
     },
     "metadata": {
      "needs_background": "light"
     },
     "output_type": "display_data"
    }
   ],
   "source": [
    "# Plot for visualization\n",
    "# f, (ax1, ax2) = plt.subplots(1, 2)\n",
    "fig, ax1 = plt.subplots()\n",
    "\n",
    "ax1.plot(propmaj_range, perf_by_units_a, 'r-', label='a')\n",
    "ax1.plot(propmaj_range, perf_by_units_b, 'b-', label='b')\n",
    "\n",
    "ax1.set_ylabel('Classifier Performance')\n",
    "ax1.set_xlabel('Proportion majority')\n",
    "# ax1.set_title('Changing bias in multiplexing')\n",
    "ax1.spines['top'].set_visible(False)\n",
    "ax1.spines['right'].set_visible(False)\n",
    "# ax1.legend()\n",
    "# ax1.legend(ncol=2)\n",
    "ax1.set(ylim=((0, 1)))\n",
    "\n",
    "ax2 = ax1.twinx()\n",
    "ax2.plot(propmaj_range, 1-prop_b_by_units, 'k-')\n",
    "\n",
    "ax2.set_ylabel('Prop. chose a')\n",
    "ax2.set_xlabel('Proportion majority')\n",
    "# ax2.set_title('Changing bias in multiplexing')\n",
    "ax2.spines['top'].set_visible(False)\n",
    "# ax2.spines['right'].set_visible(False)\n",
    "ax2.set(ylim=((0, 1)))\n",
    "\n",
    "plt.show()"
   ]
  },
  {
   "cell_type": "code",
   "execution_count": 38,
   "metadata": {},
   "outputs": [
    {
     "name": "stdout",
     "output_type": "stream",
     "text": [
      "####################\n",
      "####################\n",
      "####################\n",
      "####################\n",
      "####################\n",
      "####################\n",
      "####################\n",
      "####################\n",
      "####################\n",
      "####################\n",
      "####################\n",
      "####################\n",
      "####################\n",
      "####################\n",
      "####################\n",
      "####################\n",
      "####################\n",
      "####################\n",
      "####################\n",
      "####################\n",
      "####################\n",
      "####################\n",
      "####################\n",
      "####################\n",
      "####################\n",
      "#######"
     ]
    },
    {
     "name": "stderr",
     "output_type": "stream",
     "text": [
      "/Users/cmhacker/opt/anaconda3/lib/python3.7/site-packages/numpy/core/fromnumeric.py:3118: RuntimeWarning: Mean of empty slice.\n",
      "  out=out, **kwargs)\n",
      "/Users/cmhacker/opt/anaconda3/lib/python3.7/site-packages/numpy/core/_methods.py:85: RuntimeWarning: invalid value encountered in double_scalars\n",
      "  ret = ret.dtype.type(ret / rcount)\n"
     ]
    },
    {
     "name": "stdout",
     "output_type": "stream",
     "text": [
      "#############\n",
      "####################\n",
      "####################\n",
      "####################\n",
      "####################\n",
      "####################\n",
      "###########"
     ]
    },
    {
     "name": "stderr",
     "output_type": "stream",
     "text": [
      "/Users/cmhacker/opt/anaconda3/lib/python3.7/site-packages/numpy/core/fromnumeric.py:3118: RuntimeWarning: Mean of empty slice.\n",
      "  out=out, **kwargs)\n",
      "/Users/cmhacker/opt/anaconda3/lib/python3.7/site-packages/numpy/core/_methods.py:85: RuntimeWarning: invalid value encountered in double_scalars\n",
      "  ret = ret.dtype.type(ret / rcount)\n"
     ]
    },
    {
     "name": "stdout",
     "output_type": "stream",
     "text": [
      "#######"
     ]
    },
    {
     "name": "stderr",
     "output_type": "stream",
     "text": [
      "/Users/cmhacker/opt/anaconda3/lib/python3.7/site-packages/numpy/core/fromnumeric.py:3118: RuntimeWarning: Mean of empty slice.\n",
      "  out=out, **kwargs)\n",
      "/Users/cmhacker/opt/anaconda3/lib/python3.7/site-packages/numpy/core/_methods.py:85: RuntimeWarning: invalid value encountered in double_scalars\n",
      "  ret = ret.dtype.type(ret / rcount)\n"
     ]
    },
    {
     "name": "stdout",
     "output_type": "stream",
     "text": [
      "##\n",
      "####################\n",
      "####################\n",
      "####################\n",
      "####################\n"
     ]
    }
   ],
   "source": [
    "theta_test = [0, 10, 20, 30, 40, 50]\n",
    "propMaj_test = [0, 0.2, 0.4, 0.6, 0.8, 1]\n",
    "perf_by_units_a = np.empty((len(propMaj_test),len(theta_test)))\n",
    "perf_by_units_b = np.empty((len(propMaj_test),len(theta_test)))\n",
    "prop_b_by_units = np.empty((len(propMaj_test),len(theta_test)))\n",
    "for i in range(0, len(propMaj_test)):\n",
    "    for j in range(0, len(theta_test)):\n",
    "        mean_perf_a, mean_perf_b, prop_b = cross_validated_decoder(default_num_pres, default_num_units, propMaj_test[i], theta_test[j])\n",
    "        perf_by_units_a[i, j] = np.nanmean(mean_perf_a)\n",
    "        perf_by_units_b[i, j] = np.nanmean(mean_perf_b)\n",
    "        prop_b_by_units[i, j] = np.nanmean(prop_b)\n"
   ]
  },
  {
   "cell_type": "code",
   "execution_count": 39,
   "metadata": {},
   "outputs": [
    {
     "data": {
      "image/png": "[encoded data removed]",
      "text/plain": [
       "<Figure size 1008x288 with 6 Axes>"
      ]
     },
     "metadata": {
      "needs_background": "light"
     },
     "output_type": "display_data"
    }
   ],
   "source": [
    "fig, (ax1, ax2, ax3) = plt.subplots(1, 3, figsize=(14,4))\n",
    "\n",
    "a = ax1.imshow(perf_by_units_a, extent=[0, 1, 0, 1])\n",
    "ax1.set_ylabel('alpha')\n",
    "ax1.set_xlabel('theta')\n",
    "# ax1.spines['top'].set_visible(False)\n",
    "# ax1.spines['right'].set_visible(False)\n",
    "ax1.set_title('a classification performance')\n",
    "# ax1.legend()\n",
    "# ax1.legend(ncol=2)\n",
    "ax1.set(ylim=((0, 1)))\n",
    "t = plt.colorbar(a, ax=ax1)\n",
    "ax1.set_xticks([0, 0.2, 0.4, 0.6, 0.8, 1])\n",
    "ax1.set_xticklabels(['0', '10', '20', '30', '40', '50'])\n",
    "# ax1.colorbar(c)\n",
    "\n",
    "b = ax2.imshow(perf_by_units_b, extent = [0, 1, 0, 1])\n",
    "ax2.set_ylabel('alpha')\n",
    "ax2.set_xlabel('theta')\n",
    "ax2.set_title('b classification performance')\n",
    "t = plt.colorbar(b, ax=ax2)\n",
    "ax2.set_xticks([0, 0.2, 0.4, 0.6, 0.8, 1])\n",
    "ax2.set_xticklabels(['0', '10', '20', '30', '40', '50'])\n",
    "\n",
    "c = ax3.imshow(prop_b_by_units, extent = [0, 1, 0, 1])\n",
    "ax3.set_ylabel('alpha')\n",
    "ax3.set_xlabel('theta')\n",
    "ax3.set_title('prop. chose a')\n",
    "t = plt.colorbar(c, ax=ax3)\n",
    "ax3.set_xticks([0, 0.2, 0.4, 0.6, 0.8, 1])\n",
    "t = ax3.set_xticklabels(['0', '10', '20', '30', '40', '50'])\n"
   ]
  },
  {
   "cell_type": "code",
   "execution_count": null,
   "metadata": {},
   "outputs": [],
   "source": []
  }
 ],
 "metadata": {
  "kernelspec": {
   "display_name": "Python 3",
   "language": "python",
   "name": "python3"
  },
  "language_info": {
   "codemirror_mode": {
    "name": "ipython",
    "version": 3
   },
   "file_extension": ".py",
   "mimetype": "text/x-python",
   "name": "python",
   "nbconvert_exporter": "python",
   "pygments_lexer": "ipython3",
   "version": "3.7.6"
  }
 },
 "nbformat": 4,
 "nbformat_minor": 4
}
