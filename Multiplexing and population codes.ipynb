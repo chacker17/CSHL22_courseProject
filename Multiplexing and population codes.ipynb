{
 "cells": [
  {
   "cell_type": "markdown",
   "metadata": {},
   "source": [
    "# Investigating the impact of temporal multiplexing on neural population coding\n",
    "\n",
    "Notebook contains code from CSHL Computational Neuroscience: Vision summer course project.\n",
    "\n",
    "#### Written July 2022 by CMH"
   ]
  },
  {
   "cell_type": "markdown",
   "metadata": {},
   "source": [
    "The goal of this project is to apply the findings of Caruso et al. (2018) and to explore the implications of this kind of temporal multiplexing to distributed population codes in visual cortex.  TODO: Add more explanation of the project."
   ]
  },
  {
   "cell_type": "code",
   "execution_count": 61,
   "metadata": {},
   "outputs": [],
   "source": [
    "import numpy as np\n",
    "import pandas as pd\n",
    "from scipy.spatial import distance\n",
    "import matplotlib.pyplot as plt\n",
    "from sklearn.decomposition import PCA\n",
    "from sklearn.model_selection import train_test_split\n",
    "from sklearn.discriminant_analysis import LinearDiscriminantAnalysis"
   ]
  },
  {
   "cell_type": "markdown",
   "metadata": {},
   "source": [
    "## Step 1: Simulate a neural population\n",
    "\n",
    "1. Generate a random ground truth population response vector for a single stimulus. These spike counts are randomly pulled from an exponential with a scaling parameter that determines the range of observed spike counts.\n",
    "\n",
    "2. Simulate the ground truth response to a second vector by defining a new vector a given number of degrees from the first vector. # TODO\n",
    "\n",
    "3. Simulate the response to either stimulus presented alone as random draws from the ground truth vectors. Simulate the response to both images simultaneously using the mixed poisson model tested in Caruso et al.. \n",
    "\n",
    "### Knobs that can be turned\n",
    "\n",
    "* number of units in the population\n",
    "* proportion of the population that is biased toward one ensemble at a time\n",
    "* maximum firing rate of neurons\n",
    "* number of presentations of the image"
   ]
  },
  {
   "cell_type": "code",
   "execution_count": 169,
   "metadata": {},
   "outputs": [
    {
     "data": {
      "image/png": "[encoded data removed]",
      "text/plain": [
       "<Figure size 432x288 with 1 Axes>"
      ]
     },
     "metadata": {
      "needs_background": "light"
     },
     "output_type": "display_data"
    }
   ],
   "source": [
    "num_pres = 100 # number of presentations to simulate\n",
    "num_units = 500 # number of units in the population (max 534 recorded)\n",
    "prop_maj = 0.2 # likelihood of representing stimulus a vs. stimulus b (<0.5 favors b, >0.5 favors a)\n",
    "exp_scale = 5 # scaling factor for random draws from exponential\n",
    "theta = 50 # angle between vectors a and b (deg)\n",
    "\n",
    "IT_data = pd.read_csv('ITData.csv').to_numpy() # Starting vector comes from real IT data (objects)\n",
    "units_sample = np.random.permutation(len(IT_data))\n",
    "a = (IT_data[units_sample[0:num_units], 1]).reshape((num_units, 1))\n",
    "\n",
    "# Rotate vector a by specified number of degrees to generate vector b\n",
    "rand_vec = np.random.randn(num_units,1) # random vector we can orthogonalize wrt original\n",
    "orth_vec = rand_vec - (((rand_vec.T@a)/(a.T@a))*a) # orthogonalize wrt a\n",
    "\n",
    "# normalize to unit length\n",
    "a_norm = a * (1/ np.linalg.norm(a))\n",
    "orth_vec_norm = orth_vec * (1/ np.linalg.norm(orth_vec))\n",
    "\n",
    "b = (a_norm * np.cos(np.radians(theta))) + (orth_vec_norm*np.sin(np.radians(theta))) # generate second vector\n",
    "b = b * np.linalg.norm(a) # scale new vector up to same size as original\n",
    "\n",
    "if np.abs(np.degrees(np.arccos(1-distance.cosine(a, b)))-theta) > 0.05: # allow 0.05 degrees of error\n",
    "    raise ValueError('Simulated distance for vector b is incorrect')\n",
    "\n",
    "\n",
    "# Plot histogram of responses to A and B\n",
    "w = 1\n",
    "fig, ax = plt.subplots()\n",
    "ax.hist(a, density=True, facecolor='r', alpha=0.75, label='a', bins=np.arange(min(a), max(a) + w, w), rwidth=0.8)\n",
    "ax.hist(b, density=True, facecolor='b', alpha=0.75, label='b', bins=np.arange(min(b), max(b) + w, w), rwidth=0.8)\n",
    "ax.set_ylabel('Proportion of units')\n",
    "ax.set_xlabel('Spike count')\n",
    "ax.set_title('Distribution of ground truth responses to A and B')\n",
    "ax.spines['top'].set_visible(False)\n",
    "ax.spines['right'].set_visible(False)\n",
    "ax.legend()\n",
    "plt.show()\n",
    "\n",
    "# Simulate response of num_pres presentations of each image and images together\n",
    "a_draws = np.empty((num_units, num_pres))\n",
    "b_draws = np.empty((num_units, num_pres))\n",
    "mix_draws = np.empty((num_units, num_pres))\n",
    "for i in range(0, num_units):\n",
    "    if a[i] <= 0 and b[i] > 0:\n",
    "        a_draws[i, :] = np.random.poisson(lam=np.abs(a[i]), size=(1, num_pres)) * -1\n",
    "        b_draws[i, :] = np.random.poisson(lam=b[i], size=(1, num_pres))\n",
    "        mix_draws[i, :] = (prop_maj * np.random.poisson(lam=np.abs(a[i]), size=(1, num_pres))) * -1 + ((1-prop_maj) * np.random.poisson(lam=b[i], size=(1, num_pres))) # mixture model from Car\n",
    "    elif a[i] <= 0 and b[i] <= 0: \n",
    "        a_draws[i, :] = np.random.poisson(lam=np.abs(a[i]), size=(1, num_pres)) * -1\n",
    "        b_draws[i, :] = np.random.poisson(lam=np.abs(b[i]), size=(1, num_pres)) * -1\n",
    "        mix_draws[i, :] = (prop_maj * np.random.poisson(lam=np.abs(a[i]), size=(1, num_pres))) * -1 + ((1-prop_maj) * np.random.poisson(lam=np.abs(b[i]), size=(1, num_pres)) * -1) # mixture model from Car\n",
    "    elif a[i] > 0 and b[i] <= 0:\n",
    "        a_draws[i, :] = np.random.poisson(lam=a[i], size=(1, num_pres))\n",
    "        b_draws[i, :] = np.random.poisson(lam=np.abs(b[i]), size=(1, num_pres)) * -1\n",
    "        mix_draws[i, :] = (prop_maj * np.random.poisson(lam=a[i], size=(1, num_pres))) + ((1-prop_maj) * np.random.poisson(lam=np.abs(b[i]), size=(1, num_pres)) * -1) # mixture model from Car\n",
    "    elif a[i] > 0 and b[i] > 0:\n",
    "        a_draws[i, :] = np.random.poisson(lam=a[i], size=(1, num_pres))\n",
    "        b_draws[i, :] = np.random.poisson(lam=b[i], size=(1, num_pres))\n",
    "        mix_draws[i, :] = (prop_maj * np.random.poisson(lam=a[i], size=(1, num_pres))) + ((1-prop_maj) * np.random.poisson(lam=b[i], size=(1, num_pres))) # mixture model from Car\n"
   ]
  },
  {
   "cell_type": "markdown",
   "metadata": {},
   "source": [
    "To better visualize our data across the num_pres draws, I do PCA and plot the responses in 2D PCA space."
   ]
  },
  {
   "cell_type": "code",
   "execution_count": 170,
   "metadata": {},
   "outputs": [
    {
     "data": {
      "image/png": "[encoded data removed]",
      "text/plain": [
       "<Figure size 432x288 with 1 Axes>"
      ]
     },
     "metadata": {
      "needs_background": "light"
     },
     "output_type": "display_data"
    }
   ],
   "source": [
    "labels = np.concatenate((np.zeros((1, num_pres)), np.zeros((1, num_pres))+1, np.zeros((1, num_pres))+2), axis=1)\n",
    "all_resp = np.concatenate((a_draws, b_draws, mix_draws), axis=1)\n",
    "\n",
    "# Fit PCA model from sklearn\n",
    "pca = PCA(n_components=2)\n",
    "pca.fit(all_resp.T)\n",
    "pc_activations = pca.transform(all_resp.T)\n",
    "\n",
    "# Plot for visualization\n",
    "fig, ax = plt.subplots()\n",
    "c_resp = ['b', 'r', 'm']\n",
    "f_labels = ['a', 'b', 'mix']\n",
    "\n",
    "for i in range(0, 3):\n",
    "    ax.scatter(pc_activations[(labels==i).reshape(num_pres*3,), 0], pc_activations[(labels==i).reshape(num_pres*3,), 1], c=c_resp[i], label=f_labels[i])\n",
    "\n",
    "ax.set_ylabel('PC 2')\n",
    "ax.set_xlabel('PC 1')\n",
    "ax.set_title('Response to %d presentations of stimuli' % num_pres)\n",
    "ax.spines['top'].set_visible(False)\n",
    "ax.spines['right'].set_visible(False)\n",
    "ax.legend(ncol=3)\n",
    "plt.show()\n"
   ]
  },
  {
   "cell_type": "markdown",
   "metadata": {},
   "source": [
    "# Step 2: Implement cross-validated linear decoder\n",
    "\n",
    "Next, we train a cross-validated linear decoder to distinguish stimulus a from stimulus b. On each iteration of cross-validation we train the decoder with the repsonses to 80% of the presesentations of each stimulus. We test with the remaining 20% to determine the performance of the classifier, and we measure the distance of the mixture to the decision boundary on each iteration. "
   ]
  },
  {
   "cell_type": "code",
   "execution_count": 171,
   "metadata": {},
   "outputs": [
    {
     "name": "stdout",
     "output_type": "stream",
     "text": [
      "####################"
     ]
    }
   ],
   "source": [
    "num_itr = 1000 # number of iterations of cross-validation\n",
    "\n",
    "resp_single = np.concatenate((a_draws, b_draws), axis=1)\n",
    "label_single = np.concatenate((np.zeros((1, num_pres)), np.zeros((1, num_pres))+1), axis=1).reshape(num_pres*2,)\n",
    "\n",
    "# Loop through iterations of cross-validation\n",
    "mean_perf_a = np.zeros(num_itr,)\n",
    "mean_perf_b = np.zeros(num_itr,)\n",
    "prop_b = np.zeros(num_itr,)\n",
    "for i in range(0, num_itr):\n",
    "    if i % 50 == 0:\n",
    "        print('#', end = '')\n",
    "    \n",
    "    X_train, X_test, y_train, y_test = train_test_split(resp_single.T, label_single.T, test_size=0.2, random_state=517)\n",
    "    model = LinearDiscriminantAnalysis()\n",
    "    model.fit(X_train, y_train)\n",
    "    pred = model.predict(X_test)\n",
    "    pred_acc = 1 - np.abs(y_test - pred)\n",
    "    mean_perf_a[i] = np.mean(pred_acc[y_test==1])\n",
    "    mean_perf_b[i] = np.mean(pred_acc[y_test==0])\n",
    "    \n",
    "    # run multiplexed signal through model\n",
    "    pred_mp = model.predict(mix_draws.T)\n",
    "    prop_b[i] = np.mean(pred)\n",
    "    # MAY BE WORTH ENFORCING EQUAL NUMBERS A/B in TRAIN/TEST MOVING FORWARD\n",
    "\n",
    "\n",
    "\n",
    "\n",
    "# Implement cross-validation\n",
    "# Training set uses subsample of all a presentations\n",
    "\n",
    "# Implement classifier for each iteration (https://scikit-learn.org/stable/modules/generated/sklearn.discriminant_analysis.LinearDiscriminantAnalysis.html?)\n",
    "# Determine how close the multiplexed signal is to the decision boundary\n"
   ]
  },
  {
   "cell_type": "code",
   "execution_count": 172,
   "metadata": {},
   "outputs": [
    {
     "name": "stdout",
     "output_type": "stream",
     "text": [
      "1.0\n",
      "1.0\n",
      "0.5\n"
     ]
    }
   ],
   "source": [
    "print(np.mean(mean_perf_a))\n",
    "print(np.mean(mean_perf_b))\n",
    "print(np.mean(prop_b))"
   ]
  },
  {
   "cell_type": "markdown",
   "metadata": {},
   "source": [
    "Question 1: Can the bias in multiplexed signals \"untangle\" them so that one representation persists? A: No\n",
    "Question 2: Is there a linear classifier that can \"untangle\" in favor of the bias?"
   ]
  }
 ],
 "metadata": {
  "kernelspec": {
   "display_name": "Python 3",
   "language": "python",
   "name": "python3"
  },
  "language_info": {
   "codemirror_mode": {
    "name": "ipython",
    "version": 3
   },
   "file_extension": ".py",
   "mimetype": "text/x-python",
   "name": "python",
   "nbconvert_exporter": "python",
   "pygments_lexer": "ipython3",
   "version": "3.7.6"
  }
 },
 "nbformat": 4,
 "nbformat_minor": 4
}
