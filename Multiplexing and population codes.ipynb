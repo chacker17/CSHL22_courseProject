{
 "cells": [
  {
   "cell_type": "markdown",
   "metadata": {},
   "source": [
    "# Investigating the impact of temporal multiplexing on neural population coding\n",
    "\n",
    "Notebook contains code from CSHL Computational Neuroscience: Vision summer course project.\n",
    "\n",
    "#### Written July 2022 by CMH"
   ]
  },
  {
   "cell_type": "markdown",
   "metadata": {},
   "source": [
    "The goal of this project is to apply the findings of Caruso et al. (2018) and to explore the implications of this kind of temporal multiplexing to distributed population codes in visual cortex.  TODO: Add more explanation of the project."
   ]
  },
  {
   "cell_type": "code",
   "execution_count": 21,
   "metadata": {},
   "outputs": [],
   "source": [
    "import numpy as np\n",
    "import matplotlib.pyplot as plt\n",
    "from sklearn import discriminant_analysis"
   ]
  },
  {
   "cell_type": "markdown",
   "metadata": {},
   "source": [
    "## Step 1: Simulate a neural population\n",
    "\n",
    "1. Generate a random ground truth population response vector for a single stimulus. These spike counts are randomly pulled from an exponential with parameters xyz. #TODO\n",
    "\n",
    "2. Simulate the ground truth response to a second vector by defining a new vector a given number of degrees from the first vector. \n",
    "\n",
    "3. Simulate the response to either stimulus presented alone as random draws from the ground truth vectors. Simulate the response to both images simultaneously using the mixed poisson model tested in Caruso et al.. \n",
    "\n",
    "### Knobs that can be turned\n",
    "\n",
    "* number of units in the population\n",
    "* proportion of the population that is biased toward one ensemble at a time\n",
    "* maximum firing rate of neurons\n",
    "* number of presentations of the image"
   ]
  },
  {
   "cell_type": "code",
   "execution_count": 25,
   "metadata": {},
   "outputs": [
    {
     "data": {
      "image/png": "[encoded data removed]",
      "text/plain": [
       "<Figure size 432x288 with 1 Axes>"
      ]
     },
     "metadata": {
      "needs_background": "light"
     },
     "output_type": "display_data"
    }
   ],
   "source": [
    "num_pres = 100 # number of presentations to simulate\n",
    "num_units = 500 # number of units in the population\n",
    "prop_maj = 0.8 # likelihood of representing stimulus a vs. stimulus b\n",
    "exp_scale = 10 # scaling factor for random draws from exponential\n",
    "angle_between = 60 # angle of rotation of vector b\n",
    "\n",
    "a = np.random.exponential(exp_scale, (num_units,1)) # exponential distribution of spike counts\n",
    "b = np.random.exponential(exp_scale, (num_units,1)) # TODO: Make an actual rotation\n",
    "\n",
    "# Plot histogram of responses to A and B\n",
    "fig, ax = plt.subplots()\n",
    "ax.hist(a, 50, density=True, facecolor='r', alpha=0.75, label='a')\n",
    "ax.hist(b, 50, density=True, facecolor='b', alpha=0.75, label='b')\n",
    "ax.set_ylabel('Number of units')\n",
    "ax.set_xlabel('Spike count')\n",
    "ax.set_title('Distribution of responses to A and B')\n",
    "ax.spines['top'].set_visible(False)\n",
    "ax.spines['right'].set_visible(False)\n",
    "ax.legend()\n",
    "plt.show()\n",
    "\n",
    "# Simulate response of 100 presentations of each image and images together\n",
    "a_draws = np.random.poisson(lam=a, size=(num_units, num_pres)) # Random draws from poisson dist\n",
    "b_draws = np.random.poisson(lam=b, size=(num_units, num_pres))\n",
    "mix_draws = (prop_maj * np.random.poisson(lam=a, size=(num_units, num_pres))) + ((1-prop_maj) * np.random.poisson(lam=b, size=(num_units, num_pres))) # mixture model from Caruso et al."
   ]
  },
  {
   "cell_type": "markdown",
   "metadata": {},
   "source": [
    "Next, we train a cross-validated linear decoder to distinguish stimulus a from stimulus b. We start with an FLD classifier."
   ]
  },
  {
   "cell_type": "code",
   "execution_count": null,
   "metadata": {},
   "outputs": [],
   "source": [
    "# Implement cross-validation\n",
    "# Training set uses subsample of all a presentations\n",
    "\n",
    "# Implement classifier for each iteration (https://scikit-learn.org/stable/modules/generated/sklearn.discriminant_analysis.LinearDiscriminantAnalysis.html?)\n",
    "# Determine how close the multiplexed signal is to the decision boundary\n"
   ]
  },
  {
   "cell_type": "code",
   "execution_count": null,
   "metadata": {},
   "outputs": [],
   "source": []
  },
  {
   "cell_type": "code",
   "execution_count": null,
   "metadata": {},
   "outputs": [],
   "source": []
  }
 ],
 "metadata": {
  "kernelspec": {
   "display_name": "Python 3",
   "language": "python",
   "name": "python3"
  },
  "language_info": {
   "codemirror_mode": {
    "name": "ipython",
    "version": 3
   },
   "file_extension": ".py",
   "mimetype": "text/x-python",
   "name": "python",
   "nbconvert_exporter": "python",
   "pygments_lexer": "ipython3",
   "version": "3.7.6"
  }
 },
 "nbformat": 4,
 "nbformat_minor": 4
}
