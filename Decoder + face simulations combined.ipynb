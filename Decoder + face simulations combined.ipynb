{
 "cells": [
  {
   "cell_type": "markdown",
   "metadata": {},
   "source": [
    "# Face cell simulations with linear decoder\n",
    "\n",
    "This notebook contains code that will synthesize a population of neurons responding to features defined by the eigendecomposition of a large face image set. These synthesized repsonses are then used as ground truth to simulate several presentations of these images using the temporal multiplexing model proposed in Caruso et al. (2018). Several parameters can be tuned to determine their impact on the ability to decode face identity from the population. "
   ]
  }
 ],
 "metadata": {
  "kernelspec": {
   "display_name": "Python 3",
   "language": "python",
   "name": "python3"
  },
  "language_info": {
   "codemirror_mode": {
    "name": "ipython",
    "version": 3
   },
   "file_extension": ".py",
   "mimetype": "text/x-python",
   "name": "python",
   "nbconvert_exporter": "python",
   "pygments_lexer": "ipython3",
   "version": "3.7.6"
  }
 },
 "nbformat": 4,
 "nbformat_minor": 4
}
